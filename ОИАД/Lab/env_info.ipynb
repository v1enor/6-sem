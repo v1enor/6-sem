{
 "cells": [
  {
   "cell_type": "code",
   "execution_count": 4,
   "id": "0a8c3706-33a6-4177-af76-f57aebd757a2",
   "metadata": {
    "tags": []
   },
   "outputs": [
    {
     "name": "stdout",
     "output_type": "stream",
     "text": [
      "версияPython: 3.11.2 (tags/v3.11.2:878ead1, Feb  7 2023, 16:38:35) [MSC v.1934 64 bit (AMD64)]\n",
      "версияpandas: 1.5.3\n",
      "версияmatplotlib: 3.6.3\n",
      "версияNumPy: 1.24.2\n",
      "версияSciPy: 1.10.0\n",
      "версияIPython: 8.10.0\n",
      "версияscikit-learn: 1.2.1\n"
     ]
    }
   ],
   "source": [
    "import sys\n",
    "import pandas\n",
    "import matplotlib\n",
    "import numpy\n",
    "import scipy\n",
    "import IPython\n",
    "import sklearn\n",
    "\n",
    "print(\"версияPython: {}\".format(sys.version))\n",
    "print(\"версияpandas: {}\".format(pandas.__version__))\n",
    "print(\"версияmatplotlib: {}\".format(matplotlib.__version__))\n",
    "print(\"версияNumPy: {}\".format(numpy.__version__))\n",
    "print(\"версияSciPy: {}\".format(scipy.__version__))\n",
    "print(\"версияIPython: {}\".format(IPython.__version__))\n",
    "print(\"версияscikit-learn: {}\".format(sklearn.__version__))"
   ]
  },
  {
   "cell_type": "code",
   "execution_count": null,
   "id": "e92c837a-842d-4d34-8a24-a22e8086a6a5",
   "metadata": {},
   "outputs": [],
   "source": []
  }
 ],
 "metadata": {
  "kernelspec": {
   "display_name": "lab_env",
   "language": "python",
   "name": "python3"
  },
  "language_info": {
   "codemirror_mode": {
    "name": "ipython",
    "version": 3
   },
   "file_extension": ".py",
   "mimetype": "text/x-python",
   "name": "python",
   "nbconvert_exporter": "python",
   "pygments_lexer": "ipython3",
   "version": "3.11.2 (tags/v3.11.2:878ead1, Feb  7 2023, 16:38:35) [MSC v.1934 64 bit (AMD64)]"
  },
  "vscode": {
   "interpreter": {
    "hash": "aafce3c6d3bf606ed3779947b6d358f1b11c0ab90b7fa0385be17ad28a5991c3"
   }
  }
 },
 "nbformat": 4,
 "nbformat_minor": 5
}
